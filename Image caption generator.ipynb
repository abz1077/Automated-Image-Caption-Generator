{
 "cells": [
  {
   "cell_type": "code",
   "execution_count": 1,
   "metadata": {
    "ExecuteTime": {
     "end_time": "2020-12-10T10:59:28.556620Z",
     "start_time": "2020-12-10T10:57:39.224585Z"
    }
   },
   "outputs": [],
   "source": [
    "import numpy as np\n",
    "from tkinter import *\n",
    "from tkinter import filedialog\n",
    "from PIL import ImageTk, Image\n",
    "from keras.preprocessing.text import Tokenizer\n",
    "from keras.preprocessing.sequence import pad_sequences\n",
    "from keras.applications.xception import Xception\n",
    "from keras.models import load_model\n",
    "from pickle import load"
   ]
  },
  {
   "cell_type": "code",
   "execution_count": 2,
   "metadata": {
    "ExecuteTime": {
     "end_time": "2020-12-10T05:22:16.533634Z",
     "start_time": "2020-12-10T05:22:16.509980Z"
    }
   },
   "outputs": [],
   "source": [
    "def generate_desc(model, tokenizer, photo, max_length):\n",
    "    in_text = 'start'\n",
    "    for i in range(max_length):\n",
    "        sequence = tokenizer.texts_to_sequences([in_text])[0]\n",
    "        sequence = pad_sequences([sequence], maxlen=max_length)\n",
    "        pred = model.predict([photo,sequence], verbose=0)\n",
    "        pred = np.argmax(pred)\n",
    "        word = word_for_id(pred, tokenizer)\n",
    "        if word is None:\n",
    "            break\n",
    "        in_text += ' ' + word\n",
    "        if word == 'end':\n",
    "            break\n",
    "    return in_text"
   ]
  },
  {
   "cell_type": "code",
   "execution_count": 3,
   "metadata": {
    "ExecuteTime": {
     "end_time": "2020-12-10T05:22:16.667802Z",
     "start_time": "2020-12-10T05:22:16.538555Z"
    }
   },
   "outputs": [],
   "source": [
    "def extract_features(filename, model):\n",
    "        try:\n",
    "            image = Image.open(filename)\n",
    "        except:\n",
    "            print(\"ERROR: Make sure the image path and extension is correct\")\n",
    "        image = image.resize((299,299))\n",
    "        image = np.array(image)\n",
    "        if image.shape[2] == 4: \n",
    "            image = image[..., :3]\n",
    "        image = np.expand_dims(image, axis=0)\n",
    "        image = image/127.5\n",
    "        image = image - 1.0\n",
    "        feature = model.predict(image)\n",
    "        return feature"
   ]
  },
  {
   "cell_type": "code",
   "execution_count": 4,
   "metadata": {
    "ExecuteTime": {
     "end_time": "2020-12-10T05:22:16.808178Z",
     "start_time": "2020-12-10T05:22:16.672376Z"
    }
   },
   "outputs": [],
   "source": [
    "def word_for_id(integer, tokenizer):\n",
    "    for word, index in tokenizer.word_index.items():\n",
    "        if index == integer:\n",
    "            return word\n",
    "    return None"
   ]
  },
  {
   "cell_type": "code",
   "execution_count": 5,
   "metadata": {
    "ExecuteTime": {
     "end_time": "2020-12-10T05:22:21.355935Z",
     "start_time": "2020-12-10T05:22:16.812296Z"
    }
   },
   "outputs": [],
   "source": [
    "tokenizer = load(open(\"./tokenizer.p\",\"rb\"))\n",
    "model = load_model(\"./Models/model_9.h5\")\n",
    "xception_model = Xception(include_top=False, pooling=\"avg\")"
   ]
  },
  {
   "cell_type": "code",
   "execution_count": 6,
   "metadata": {
    "ExecuteTime": {
     "end_time": "2020-12-10T05:22:21.372049Z",
     "start_time": "2020-12-10T05:22:21.359692Z"
    }
   },
   "outputs": [],
   "source": [
    "# img_path = \"./Testing Pics/12.jpg\"\n",
    "# # img_path=\"./Pictures/IMG-20180617-WA0032.jpg\"\n",
    "# max_length = 32\n",
    "# photo = extract_features(img_path, xception_model)\n",
    "# description = generate_desc(model, tokenizer, photo, max_length)\n",
    "# img = Image.open(img_path)\n",
    "# plt.imshow(img)\n",
    "# print(description)\n",
    "# description = description.replace('start ', '')\n",
    "# description = description.replace(' end', '.')\n",
    "# description=description.capitalize()\n",
    "# # plt.suptitle(description, fontsize=16)\n",
    "# # plt.show()\n",
    "# # print(description)"
   ]
  },
  {
   "cell_type": "code",
   "execution_count": 7,
   "metadata": {
    "ExecuteTime": {
     "end_time": "2020-12-10T05:22:21.536860Z",
     "start_time": "2020-12-10T05:22:21.376084Z"
    }
   },
   "outputs": [],
   "source": [
    "def caption_callback(description):\n",
    "    caption.configure(text=description)"
   ]
  },
  {
   "cell_type": "code",
   "execution_count": 8,
   "metadata": {
    "ExecuteTime": {
     "end_time": "2020-12-10T05:22:21.671206Z",
     "start_time": "2020-12-10T05:22:21.545534Z"
    }
   },
   "outputs": [],
   "source": [
    "def callback():\n",
    "    dire=filedialog.askopenfilename()\n",
    "    photo = extract_features(dire, xception_model)\n",
    "    description = generate_desc(model, tokenizer, photo, 32)\n",
    "    description = description.replace('start ', '')\n",
    "    description = description.replace(' end', '.')\n",
    "    description=description.capitalize()\n",
    "    img2 = ImageTk.PhotoImage(Image.open(dire))\n",
    "    panel.configure(image=img2)\n",
    "    panel.image = img2\n",
    "    caption_callback(description)"
   ]
  },
  {
   "cell_type": "code",
   "execution_count": 10,
   "metadata": {
    "ExecuteTime": {
     "end_time": "2020-12-10T06:47:12.182961Z",
     "start_time": "2020-12-10T05:28:07.105723Z"
    },
    "scrolled": true
   },
   "outputs": [],
   "source": [
    "root = Tk()\n",
    "root.title(\"Automated Image Caption Generator\")\n",
    "root.iconbitmap(\"./Icon.ico\")\n",
    "# root.geometry(\"800x700\")\n",
    "Label(root,text=\"Automated Image Caption Generator\",font='Calibri 20 bold underline',fg='Black').grid(row=0, column=1, columnspan=2)\n",
    "path=\"./default_image.jpg\"\n",
    "img = ImageTk.PhotoImage(Image.open(path))\n",
    "panel = Label(root, image=img)\n",
    "caption=Label(root, text=\"\",font='Calibri 12')\n",
    "panel.grid(row=2, column=1, columnspan=2)\n",
    "caption.grid(row=3, column=1, columnspan=2)\n",
    "button1=Button(root, text=\"Choose Image\", command=callback)\n",
    "button1.grid(row=1, column=0, columnspan=3)\n",
    "root.bind(\"<Return>\", callback)\n",
    "root.mainloop()"
   ]
  },
  {
   "cell_type": "code",
   "execution_count": null,
   "metadata": {},
   "outputs": [],
   "source": []
  }
 ],
 "metadata": {
  "kernelspec": {
   "display_name": "Python 3",
   "language": "python",
   "name": "python3"
  },
  "language_info": {
   "codemirror_mode": {
    "name": "ipython",
    "version": 3
   },
   "file_extension": ".py",
   "mimetype": "text/x-python",
   "name": "python",
   "nbconvert_exporter": "python",
   "pygments_lexer": "ipython3",
   "version": "3.7.9"
  }
 },
 "nbformat": 4,
 "nbformat_minor": 4
}
